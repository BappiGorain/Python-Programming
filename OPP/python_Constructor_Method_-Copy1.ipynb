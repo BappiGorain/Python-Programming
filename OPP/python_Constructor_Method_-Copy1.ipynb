{
 "cells": [
  {
   "cell_type": "code",
   "execution_count": 2,
   "id": "7c1f693b-0f83-40bc-9e09-19f5c1b337ac",
   "metadata": {},
   "outputs": [
    {
     "name": "stdout",
     "output_type": "stream",
     "text": [
      "krish\n",
      "100\n",
      "krish\n",
      "100\n"
     ]
    }
   ],
   "source": [
    "class Student:\n",
    "    def __init__(self,name,mark):\n",
    "        self.name = name\n",
    "        self.mark = mark\n",
    "    def info(self):\n",
    "        print(self.name)\n",
    "        print(self.mark)\n",
    "\n",
    "s = Student('krish',100)\n",
    "s.info()\n",
    "print(s.name)\n",
    "print(s.mark)"
   ]
  },
  {
   "cell_type": "code",
   "execution_count": 3,
   "id": "c97ca789-5661-45fa-8043-71f5cea4226f",
   "metadata": {},
   "outputs": [],
   "source": [
    "class Student:\n",
    "    pass\n",
    "\n",
    "s1 = Student()"
   ]
  },
  {
   "cell_type": "code",
   "execution_count": 5,
   "id": "7a1d4afb-3622-4ac3-9dd6-c08dcac75ca5",
   "metadata": {},
   "outputs": [
    {
     "name": "stdout",
     "output_type": "stream",
     "text": [
      "one args constructor\n"
     ]
    }
   ],
   "source": [
    "class Student:\n",
    "    \n",
    "    def __init__(self):\n",
    "        print(\"Zero args constructor\")\n",
    "    def __init__(self,x):\n",
    "        print(\"one args constructor\")\n",
    "s1 = Student(11)\n",
    "\n"
   ]
  },
  {
   "cell_type": "code",
   "execution_count": 6,
   "id": "bc78045b-1e8f-4d76-a875-0c6eaf6ea042",
   "metadata": {},
   "outputs": [
    {
     "name": "stdout",
     "output_type": "stream",
     "text": [
      "{'name': 'Bappi', 'roll': 101, 'mark': 60, 'age': 20}\n"
     ]
    }
   ],
   "source": [
    "class Student:\n",
    "    def __init__(self,name,roll):\n",
    "        self.name = name\n",
    "        self.roll = roll\n",
    "    def info(self):\n",
    "        self.mark = 60\n",
    "s1 = Student('Bappi',101)\n",
    "s1.info()\n",
    "s1.age = 20\n",
    "print(s1.__dict__)"
   ]
  },
  {
   "cell_type": "code",
   "execution_count": 14,
   "id": "ee6bf5f4-59bf-4417-b47a-ce2ff010cef6",
   "metadata": {},
   "outputs": [
    {
     "name": "stdout",
     "output_type": "stream",
     "text": [
      "{'name': 'Bappi', 'roll': 101, 'mark': 60, 'age': 20}\n",
      "{'name': 'Bappi', 'roll': 101, 'mark': 60}\n"
     ]
    }
   ],
   "source": [
    "class Student:\n",
    "    def __init__(self,name,roll):\n",
    "        self.name = name\n",
    "        self.roll = roll\n",
    "    def info(self):\n",
    "        self.mark = 60\n",
    "s1 = Student('Bappi',101)\n",
    "s1.info()\n",
    "s1.age = 20\n",
    "print(s1.__dict__)\n",
    "del s1.age\n",
    "print(s1.__dict__)"
   ]
  },
  {
   "cell_type": "code",
   "execution_count": 12,
   "id": "4dbe91e6-4d9e-4e05-9a0c-775360395dbd",
   "metadata": {},
   "outputs": [
    {
     "name": "stdout",
     "output_type": "stream",
     "text": [
      "{'name': 'Bappi', 'roll': 101}\n",
      "{'name': 'Bappi'}\n"
     ]
    }
   ],
   "source": [
    "class Student:\n",
    "    def __init__(self,name,roll):\n",
    "        self.name = name\n",
    "        self.roll = roll\n",
    "    def info(self):\n",
    "        print(self.__dict__)\n",
    "        del self.roll\n",
    "        print(self.__dict__)\n",
    "s1 = Student('Bappi',101)\n",
    "s1.info()\n"
   ]
  },
  {
   "cell_type": "code",
   "execution_count": null,
   "id": "71edd5d9-ac26-4928-bfba-8bc96a0ba6a5",
   "metadata": {},
   "outputs": [],
   "source": []
  }
 ],
 "metadata": {
  "kernelspec": {
   "display_name": "Python 3 (ipykernel)",
   "language": "python",
   "name": "python3"
  },
  "language_info": {
   "codemirror_mode": {
    "name": "ipython",
    "version": 3
   },
   "file_extension": ".py",
   "mimetype": "text/x-python",
   "name": "python",
   "nbconvert_exporter": "python",
   "pygments_lexer": "ipython3",
   "version": "3.8.10"
  }
 },
 "nbformat": 4,
 "nbformat_minor": 5
}
