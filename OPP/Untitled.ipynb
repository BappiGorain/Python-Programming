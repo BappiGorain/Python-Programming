{
 "cells": [
  {
   "cell_type": "code",
   "execution_count": 2,
   "id": "2e168510-353a-4f7d-85db-b56fa779e844",
   "metadata": {},
   "outputs": [
    {
     "name": "stdout",
     "output_type": "stream",
     "text": [
      "This is my 1st object oriented python program\n"
     ]
    }
   ],
   "source": [
    "class Student:\n",
    "    '''This is my 1st object oriented python program'''\n",
    "print(Student.__doc__)"
   ]
  },
  {
   "cell_type": "code",
   "execution_count": 6,
   "id": "204477d0-962a-4a61-8684-e0418a35c3f9",
   "metadata": {},
   "outputs": [
    {
     "name": "stdout",
     "output_type": "stream",
     "text": [
      "hello i am : Bappi\n",
      "my age is : 21\n",
      "My mark is : 94\n"
     ]
    }
   ],
   "source": [
    "class Student:\n",
    "    def __init__(self):   # constructor\n",
    "        self.name = 'Bappi'\n",
    "        self.age = 21\n",
    "        self.mark = 94\n",
    "    def talk(self):\n",
    "        print('hello i am :',self.name)\n",
    "        print('my age is :', self.age)\n",
    "        print('My mark is :',self.mark)\n",
    "\n",
    "s=Student()\n",
    "s.talk()\n",
    "\n",
    "    "
   ]
  },
  {
   "cell_type": "code",
   "execution_count": 16,
   "id": "f2ff277a-c900-4924-ba88-fb3e138a7eef",
   "metadata": {},
   "outputs": [
    {
     "name": "stdout",
     "output_type": "stream",
     "text": [
      "My television is model is : sony 123\n",
      "its weight is : 30\n",
      "color is : Blue\n"
     ]
    }
   ],
   "source": [
    "class Television:\n",
    "    def __init__(self):\n",
    "        self.model = 'sony 123'\n",
    "        self.weight = 30\n",
    "        self.color = 'Blue'\n",
    "    def print(self):\n",
    "        print(f'My television is model is : {self.model}\\nits weight is : {self.weight}\\ncolor is : {self.color}')\n",
    "t = Television()\n",
    "t.print()"
   ]
  },
  {
   "cell_type": "code",
   "execution_count": 18,
   "id": "9f5f0ded-de6b-40c4-b114-17e83135c1b5",
   "metadata": {},
   "outputs": [
    {
     "name": "stdout",
     "output_type": "stream",
     "text": [
      "hello i am : Bappi\n",
      "my age is : 21\n",
      "My mark is : 94\n",
      "hello i am : Gopi\n",
      "my age is : 18\n",
      "My mark is : 90\n"
     ]
    }
   ],
   "source": [
    "class Student:\n",
    "    def __init__(self,name,age,mark): \n",
    "        self.name = name\n",
    "        self.age = age\n",
    "        self.mark = mark\n",
    "    def talk(self):\n",
    "        print('hello i am :',self.name)\n",
    "        print('my age is :', self.age)\n",
    "        print('My mark is :',self.mark)\n",
    "\n",
    "s1=Student('Bappi',21,94)\n",
    "s1.talk()\n",
    "s2=Student('Gopi',18,90)\n",
    "s2.talk()\n",
    "\n",
    "\n",
    "    "
   ]
  },
  {
   "cell_type": "code",
   "execution_count": 22,
   "id": "98c2242d-be5a-40c3-8682-7fd3d9eb20fe",
   "metadata": {},
   "outputs": [
    {
     "name": "stdout",
     "output_type": "stream",
     "text": [
      "Constructor called\n",
      "140355507654416\n",
      "140355507654416\n"
     ]
    }
   ],
   "source": [
    "class ConstructorCall:\n",
    "    def __init__(self):\n",
    "        print(\"Constructor called\")\n",
    "        print(id(self))\n",
    "c = ConstructorCall()\n",
    "print(id(c))\n",
    "\n",
    "''' self and object reffered to same object always'''"
   ]
  },
  {
   "cell_type": "code",
   "execution_count": 23,
   "id": "2a6cb35d-e115-4827-b840-944d6e969df9",
   "metadata": {},
   "outputs": [
    {
     "name": "stdout",
     "output_type": "stream",
     "text": [
      "hello i am : Bappi\n",
      "my age is : 21\n",
      "My mark is : 94\n"
     ]
    }
   ],
   "source": [
    "class Student:\n",
    "    def __init__(self,name,age,mark): \n",
    "        self.name = name\n",
    "        self.age = age\n",
    "        self.mark = mark\n",
    "        \n",
    "s1=Student('Bappi',21,94)\n",
    "print('hello i am :',s1.name)\n",
    "print('my age is :', s1.age)\n",
    "print('My mark is :',s1.mark)"
   ]
  },
  {
   "cell_type": "code",
   "execution_count": null,
   "id": "007119fe-3bf4-4c86-8fcc-e5296506f25c",
   "metadata": {},
   "outputs": [],
   "source": []
  }
 ],
 "metadata": {
  "kernelspec": {
   "display_name": "Python 3 (ipykernel)",
   "language": "python",
   "name": "python3"
  },
  "language_info": {
   "codemirror_mode": {
    "name": "ipython",
    "version": 3
   },
   "file_extension": ".py",
   "mimetype": "text/x-python",
   "name": "python",
   "nbconvert_exporter": "python",
   "pygments_lexer": "ipython3",
   "version": "3.11.7"
  }
 },
 "nbformat": 4,
 "nbformat_minor": 5
}
