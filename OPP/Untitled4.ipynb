{
 "cells": [
  {
   "cell_type": "code",
   "execution_count": 11,
   "id": "2bd76096-0585-45c1-ae34-b6db42632516",
   "metadata": {},
   "outputs": [
    {
     "name": "stdout",
     "output_type": "stream",
     "text": [
      "krish_8\n",
      "krish_8\n",
      "krish_8\n"
     ]
    }
   ],
   "source": [
    "class Student:\n",
    "    def __init__(self,name,std):\n",
    "        self.name = name\n",
    "        self.std = std\n",
    "    def __repr__(self):\n",
    "        return f\"{self.name}_{self.std}\"\n",
    "\n",
    "s=Student('krish',8)\n",
    "print(s)\n",
    "print(str(s))\n",
    "print(repr(s))"
   ]
  },
  {
   "cell_type": "code",
   "execution_count": 13,
   "id": "b4fd2a8c-585e-46eb-b46e-e03e84f3cb9d",
   "metadata": {},
   "outputs": [
    {
     "name": "stdout",
     "output_type": "stream",
     "text": [
      "[krish_8, krish_8]\n"
     ]
    }
   ],
   "source": [
    "class Student:\n",
    "    def __init__(self,name,std):\n",
    "        self.name = name\n",
    "        self.std = std\n",
    "    def __repr__(self):\n",
    "        return f\"{self.name}_{self.std}\"\n",
    "\n",
    "s1=Student('krish',8)\n",
    "s2=Student('krish',8)\n",
    "print([s1,s2])"
   ]
  },
  {
   "cell_type": "code",
   "execution_count": 19,
   "id": "547249e7-7baa-49d2-a6f5-9afa8064c591",
   "metadata": {
    "scrolled": true
   },
   "outputs": [
    {
     "name": "stdout",
     "output_type": "stream",
     "text": [
      "42\n"
     ]
    }
   ],
   "source": [
    "#private\n",
    "\n",
    "class Student:\n",
    "    def __init__(self,data):\n",
    "        self.__data = data\n",
    "    def get_data(self):\n",
    "        return self.__data\n",
    "\n",
    "s1=Student(42)\n",
    "# print(s1.__data) -> private data cannot be acessed outside the class \n",
    "print(s1.get_data())\n"
   ]
  },
  {
   "cell_type": "code",
   "execution_count": 37,
   "id": "f2a9ec72-b124-4db8-a140-cc6cfba06987",
   "metadata": {
    "scrolled": true
   },
   "outputs": [
    {
     "name": "stdout",
     "output_type": "stream",
     "text": [
      "Bappi\n"
     ]
    }
   ],
   "source": [
    "#Setter and Getter\n",
    "\n",
    "class Student:\n",
    "\n",
    "    @property\n",
    "    def getData(self):\n",
    "        return self.__data\n",
    "    \n",
    "    @getData.setter\n",
    "    def setData(self,data):\n",
    "        self.__data = data\n",
    "\n",
    "s1=Student()\n",
    "s1.setData = 'Bappi'\n",
    "print(s1.getData)\n",
    "\n",
    "\n",
    "# we are using setter method to set data to object\n",
    "# we are using getter method to get data from object"
   ]
  },
  {
   "cell_type": "code",
   "execution_count": 30,
   "id": "49b7357c-5a91-46a6-b15a-2f2da81dfd2d",
   "metadata": {},
   "outputs": [
    {
     "name": "stdout",
     "output_type": "stream",
     "text": [
      "Bappi\n"
     ]
    }
   ],
   "source": [
    "class Student:\n",
    "    def setName(self,name):\n",
    "        self.name = name\n",
    "    def getName(self):\n",
    "        return self.name\n",
    "\n",
    "s = Student()\n",
    "s.setName('Bappi')\n",
    "print(s.getName())\n",
    "        "
   ]
  },
  {
   "cell_type": "code",
   "execution_count": 32,
   "id": "72bf8e88-df01-460d-b780-c185c6da55d0",
   "metadata": {},
   "outputs": [
    {
     "name": "stdout",
     "output_type": "stream",
     "text": [
      "Bappi\n"
     ]
    }
   ],
   "source": [
    "class Student:\n",
    "    @property\n",
    "    def getName(self):\n",
    "        return self.name\n",
    "\n",
    "    @getName.setter\n",
    "    def setName(self,name):\n",
    "        self.name = name\n",
    "\n",
    "\n",
    "s = Student()\n",
    "s.setName = 'Bappi'\n",
    "print(s.getName)\n",
    "        "
   ]
  },
  {
   "cell_type": "code",
   "execution_count": 38,
   "id": "f6ac7a58-01d6-457a-9390-b3c0c5d94e91",
   "metadata": {},
   "outputs": [
    {
     "name": "stdout",
     "output_type": "stream",
     "text": [
      "parent Method\n",
      "child Method\n"
     ]
    }
   ],
   "source": [
    "# Single Inheritance\n",
    "\n",
    "class P:\n",
    "    def m1(self):\n",
    "        print('parent Method')\n",
    "\n",
    "class C(P):\n",
    "    def m2(self):\n",
    "        print('child Method')\n",
    "\n",
    "c = C()\n",
    "c.m1()\n",
    "c.m2()\n",
    "        "
   ]
  },
  {
   "cell_type": "code",
   "execution_count": 41,
   "id": "85ce6c1c-eb3c-402b-8afd-f3239b5b1fad",
   "metadata": {},
   "outputs": [
    {
     "name": "stdout",
     "output_type": "stream",
     "text": [
      "parent Method\n",
      "child Method\n",
      "Grandchild Method\n"
     ]
    }
   ],
   "source": [
    "# MultiLevel Inheritance\n",
    "\n",
    "class P:\n",
    "    def m1(self):\n",
    "        print('parent Method')\n",
    "\n",
    "class C(P):\n",
    "    def m2(self):\n",
    "        print('child Method')\n",
    "\n",
    "class GC(C):\n",
    "    def m3(self):\n",
    "        print('Grandchild Method')\n",
    "\n",
    "gc = GC()\n",
    "gc.m1()\n",
    "gc.m2()\n",
    "gc.m3()"
   ]
  },
  {
   "cell_type": "code",
   "execution_count": 44,
   "id": "eb70a3a6-cdad-4dab-ae36-fdfc43a07799",
   "metadata": {},
   "outputs": [
    {
     "name": "stdout",
     "output_type": "stream",
     "text": [
      "parent1 Method\n",
      "parent2 Method\n",
      "child Method\n"
     ]
    }
   ],
   "source": [
    "# Multiple Inheritance\n",
    "\n",
    "class P1:\n",
    "    def m1(self):\n",
    "        print('parent1 Method')\n",
    "\n",
    "class P2:\n",
    "    def m2(self):\n",
    "        print('parent2 Method')\n",
    "\n",
    "class C(P1,P2):\n",
    "    def m3(self):\n",
    "        print('child Method')\n",
    "\n",
    "c = C()\n",
    "c.m1()\n",
    "c.m2()\n",
    "c.m3()"
   ]
  }
 ],
 "metadata": {
  "kernelspec": {
   "display_name": "Python 3 (ipykernel)",
   "language": "python",
   "name": "python3"
  },
  "language_info": {
   "codemirror_mode": {
    "name": "ipython",
    "version": 3
   },
   "file_extension": ".py",
   "mimetype": "text/x-python",
   "name": "python",
   "nbconvert_exporter": "python",
   "pygments_lexer": "ipython3",
   "version": "3.8.10"
  }
 },
 "nbformat": 4,
 "nbformat_minor": 5
}
