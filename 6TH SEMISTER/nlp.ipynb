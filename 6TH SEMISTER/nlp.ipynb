{
 "cells": [
  {
   "cell_type": "code",
   "execution_count": 14,
   "id": "0ea7348d-3ace-4468-9632-f9a55f35973f",
   "metadata": {},
   "outputs": [
    {
     "data": {
      "text/plain": [
       "TextBlob(\"Today is beautifulday. Tommorow looks like bad day\")"
      ]
     },
     "execution_count": 14,
     "metadata": {},
     "output_type": "execute_result"
    }
   ],
   "source": [
    "from textblob import TextBlob\n",
    "blob = TextBlob(\"Today is beautifulday. Tommorow looks like bad day\")\n",
    "blob\n"
   ]
  },
  {
   "cell_type": "code",
   "execution_count": 2,
   "id": "3f35b6d9-338d-44bb-b2a9-df80e70fe78d",
   "metadata": {},
   "outputs": [
    {
     "data": {
      "text/plain": [
       "[Sentence(\"Today is beautifulday.\"), Sentence(\"Tommorow looks like bad day\")]"
      ]
     },
     "execution_count": 2,
     "metadata": {},
     "output_type": "execute_result"
    }
   ],
   "source": [
    "blob.sentences"
   ]
  },
  {
   "cell_type": "code",
   "execution_count": 3,
   "id": "f8c99919-1304-42dd-8321-5ae58825bd97",
   "metadata": {},
   "outputs": [
    {
     "data": {
      "text/plain": [
       "WordList(['Today', 'is', 'beautifulday', 'Tommorow', 'looks', 'like', 'bad', 'day'])"
      ]
     },
     "execution_count": 3,
     "metadata": {},
     "output_type": "execute_result"
    }
   ],
   "source": [
    "blob.words"
   ]
  },
  {
   "cell_type": "code",
   "execution_count": 8,
   "id": "de826b59-4e20-4b38-86e2-b5df062863dd",
   "metadata": {},
   "outputs": [
    {
     "name": "stderr",
     "output_type": "stream",
     "text": [
      "[nltk_data] Downloading package averaged_perceptron_tagger_eng to\n",
      "[nltk_data]     /home/student/nltk_data...\n",
      "[nltk_data]   Package averaged_perceptron_tagger_eng is already up-to-\n",
      "[nltk_data]       date!\n"
     ]
    },
    {
     "data": {
      "text/plain": [
       "[('Today', 'NN'),\n",
       " ('is', 'VBZ'),\n",
       " ('beautifulday', 'JJ'),\n",
       " ('Tommorow', 'NNP'),\n",
       " ('looks', 'VBZ'),\n",
       " ('like', 'IN'),\n",
       " ('bad', 'JJ'),\n",
       " ('day', 'NN')]"
      ]
     },
     "execution_count": 8,
     "metadata": {},
     "output_type": "execute_result"
    }
   ],
   "source": [
    "import nltk\n",
    "nltk.download('averaged_perceptron_tagger_eng')"
   ]
  },
  {
   "cell_type": "code",
   "execution_count": 10,
   "id": "aa381f8e-835b-410d-8e68-37108223f73a",
   "metadata": {},
   "outputs": [
    {
     "data": {
      "text/plain": [
       "[('Today', 'NN'),\n",
       " ('is', 'VBZ'),\n",
       " ('beautifulday', 'JJ'),\n",
       " ('Tommorow', 'NNP'),\n",
       " ('looks', 'VBZ'),\n",
       " ('like', 'IN'),\n",
       " ('bad', 'JJ'),\n",
       " ('day', 'NN')]"
      ]
     },
     "execution_count": 10,
     "metadata": {},
     "output_type": "execute_result"
    }
   ],
   "source": [
    "blob.tags"
   ]
  },
  {
   "cell_type": "code",
   "execution_count": 5,
   "id": "050d75f5-61bc-4216-aa7b-6617fe53328f",
   "metadata": {},
   "outputs": [
    {
     "data": {
      "text/plain": [
       "WordList(['tommorow', 'bad day'])"
      ]
     },
     "execution_count": 5,
     "metadata": {},
     "output_type": "execute_result"
    }
   ],
   "source": [
    "blob.noun_phrases"
   ]
  },
  {
   "cell_type": "code",
   "execution_count": 9,
   "id": "aec9d77e-c9de-4c43-8fa6-209272d31e2d",
   "metadata": {},
   "outputs": [
    {
     "data": {
      "text/plain": [
       "Sentiment(polarity=-0.6999999999999998, subjectivity=0.6666666666666666)"
      ]
     },
     "execution_count": 9,
     "metadata": {},
     "output_type": "execute_result"
    }
   ],
   "source": [
    "blob.sentiment"
   ]
  },
  {
   "cell_type": "code",
   "execution_count": 11,
   "id": "f5ec6409-2eac-4c69-92c1-0f11314a9b65",
   "metadata": {},
   "outputs": [
    {
     "data": {
      "text/plain": [
       "'%.3f'"
      ]
     },
     "execution_count": 11,
     "metadata": {},
     "output_type": "execute_result"
    }
   ],
   "source": [
    "%precision 3"
   ]
  },
  {
   "cell_type": "code",
   "execution_count": 12,
   "id": "ae86fdf5-8448-4f0c-81b8-488a10f43b21",
   "metadata": {},
   "outputs": [
    {
     "data": {
      "text/plain": [
       "-0.700"
      ]
     },
     "execution_count": 12,
     "metadata": {},
     "output_type": "execute_result"
    }
   ],
   "source": [
    "blob.sentiment.polarity"
   ]
  },
  {
   "cell_type": "code",
   "execution_count": 13,
   "id": "7c4d43e8-f1fe-4383-b316-670d6f85144e",
   "metadata": {},
   "outputs": [
    {
     "data": {
      "text/plain": [
       "0.667"
      ]
     },
     "execution_count": 13,
     "metadata": {},
     "output_type": "execute_result"
    }
   ],
   "source": [
    "blob.sentiment.subjectivity"
   ]
  },
  {
   "cell_type": "code",
   "execution_count": 15,
   "id": "64580da1-58ac-48a1-9bba-e4d5dba531fd",
   "metadata": {},
   "outputs": [
    {
     "name": "stdout",
     "output_type": "stream",
     "text": [
      "Sentiment(polarity=0.0, subjectivity=0.0)\n",
      "Sentiment(polarity=-0.6999999999999998, subjectivity=0.6666666666666666)\n"
     ]
    }
   ],
   "source": [
    "for sent in blob.sentences:\n",
    "    print(sent.sentiment)"
   ]
  },
  {
   "cell_type": "code",
   "execution_count": 16,
   "id": "6a072922-361b-46b2-bcd6-e9eb69f4f8a9",
   "metadata": {},
   "outputs": [
    {
     "data": {
      "text/plain": [
       "Sentiment(polarity=-0.35, subjectivity=0.6000000000000001)"
      ]
     },
     "execution_count": 16,
     "metadata": {},
     "output_type": "execute_result"
    }
   ],
   "source": [
    "blob1 = TextBlob(\"The food is not good\")\n",
    "blob1.sentiment"
   ]
  },
  {
   "cell_type": "code",
   "execution_count": 25,
   "id": "b7e601a1-424e-4a1c-b59c-f0699e8419ab",
   "metadata": {},
   "outputs": [
    {
     "data": {
      "text/plain": [
       "Sentiment(polarity=-0.2, subjectivity=0.8)"
      ]
     },
     "execution_count": 25,
     "metadata": {},
     "output_type": "execute_result"
    }
   ],
   "source": [
    "blob2 = TextBlob(\"The movie was very bad\")\n",
    "blob2.sentiment"
   ]
  },
  {
   "cell_type": "code",
   "execution_count": 18,
   "id": "29e31052-5707-48c6-94ff-d52edfafb08b",
   "metadata": {},
   "outputs": [
    {
     "data": {
      "text/plain": [
       "Sentiment(polarity=1.0, subjectivity=1.0)"
      ]
     },
     "execution_count": 18,
     "metadata": {},
     "output_type": "execute_result"
    }
   ],
   "source": [
    "blob3 = TextBlob(\"The movie was excellent\")\n",
    "blob3.sentiment"
   ]
  },
  {
   "cell_type": "code",
   "execution_count": 29,
   "id": "8799d6f0-047a-405f-b352-a920035242e0",
   "metadata": {},
   "outputs": [
    {
     "data": {
      "text/plain": [
       "TextBlob(\"Today is beautiful day. To,mmorow looks like bad day\")"
      ]
     },
     "execution_count": 29,
     "metadata": {},
     "output_type": "execute_result"
    }
   ],
   "source": [
    "from textblob.sentiments import NaiveBayesAnalyzer\n",
    "text = 'Today is beautiful day. To,Tmmorow looks like bad day'\n",
    "blob = TextBlob(text,analyzer = NaiveBayesAnalyzer())\n",
    "blob"
   ]
  },
  {
   "cell_type": "code",
   "execution_count": 31,
   "id": "c36798d0-fc48-46c8-8a1e-5ea21977d902",
   "metadata": {},
   "outputs": [
    {
     "data": {
      "text/plain": [
       "Sentiment(classification='pos', p_pos=0.5471136949054095, p_neg=0.4528863050945902)"
      ]
     },
     "execution_count": 31,
     "metadata": {},
     "output_type": "execute_result"
    }
   ],
   "source": [
    "blob.sentiment"
   ]
  },
  {
   "cell_type": "code",
   "execution_count": 34,
   "id": "a1d3f5ec-1738-4b9a-8d1c-4a17def85ee3",
   "metadata": {},
   "outputs": [
    {
     "name": "stdout",
     "output_type": "stream",
     "text": [
      "Sentiment(classification='pos', p_pos=0.8117563121751951, p_neg=0.18824368782480477)\n",
      "Sentiment(classification='neg', p_pos=0.2576453796001513, p_neg=0.7423546203998483)\n"
     ]
    }
   ],
   "source": [
    "for sent in blob.sentences:\n",
    "    print(sent.sentiment)"
   ]
  },
  {
   "cell_type": "code",
   "execution_count": 38,
   "id": "611f79c7-4f0b-4152-83a0-e607d4f89808",
   "metadata": {},
   "outputs": [
    {
     "data": {
      "text/plain": [
       "Sentiment(classification='pos', p_pos=0.5471136949054095, p_neg=0.4528863050945902)"
      ]
     },
     "execution_count": 38,
     "metadata": {},
     "output_type": "execute_result"
    }
   ],
   "source": [
    "text1 = 'The movie was excellent'\n",
    "blob1 = TextBlob(text1,analyzer = NaiveBayesAnalyzer())\n",
    "blob.sentiment"
   ]
  },
  {
   "cell_type": "code",
   "execution_count": 40,
   "id": "253697e1-2448-4989-bf88-53bfb6e51fb3",
   "metadata": {},
   "outputs": [
    {
     "name": "stdout",
     "output_type": "stream",
     "text": [
      "Collecting langdetect\n",
      "  Downloading langdetect-1.0.9.tar.gz (981 kB)\n",
      "\u001b[K     |████████████████████████████████| 981 kB 3.9 MB/s eta 0:00:01\n",
      "\u001b[?25hRequirement already satisfied: six in /usr/lib/python3/dist-packages (from langdetect) (1.14.0)\n",
      "Building wheels for collected packages: langdetect\n",
      "  Building wheel for langdetect (setup.py) ... \u001b[?2done\n",
      "\u001b[?25h  Created wheel for langdetect: filename=langdetect-1.0.9-py3-none-any.whl size=993222 sha256=afbfd8f84f9b4e1e8123b52fe714f2afc34df40afdd900c1f26a4f146e9bff20\n",
      "  Stored in directory: /home/student/.cache/pip/wheels/13/c7/b0/79f66658626032e78fc1a83103690ef6797d551cb22e56e734\n",
      "Successfully built langdetect\n",
      "Installing collected packages: langdetect\n",
      "Successfully installed langdetect-1.0.9\n"
     ]
    }
   ],
   "source": [
    "!pip install langdetect"
   ]
  },
  {
   "cell_type": "code",
   "execution_count": 46,
   "id": "bd101e59-5513-4f2b-a4e0-beaca90ff420",
   "metadata": {},
   "outputs": [
    {
     "name": "stdout",
     "output_type": "stream",
     "text": [
      "lv\n"
     ]
    }
   ],
   "source": [
    "from langdetect import detect\n",
    "text = 'Āmi tōmākē bhālōbāsi'\n",
    "print(detect(text))  "
   ]
  },
  {
   "cell_type": "code",
   "execution_count": 48,
   "id": "fa23b34a-7f53-4873-8752-b707b2f2a523",
   "metadata": {},
   "outputs": [
    {
     "data": {
      "text/plain": [
       "'sq'"
      ]
     },
     "execution_count": 48,
     "metadata": {},
     "output_type": "execute_result"
    }
   ],
   "source": [
    "detect('pre-mika')"
   ]
  },
  {
   "cell_type": "code",
   "execution_count": 49,
   "id": "c8e672fa-c22d-4433-b0ca-71544a87b4aa",
   "metadata": {},
   "outputs": [
    {
     "name": "stdout",
     "output_type": "stream",
     "text": [
      "Collecting deep_translator\n",
      "  Downloading deep_translator-1.11.4-py3-none-any.whl (42 kB)\n",
      "\u001b[K     |████████████████████████████████| 42 kB 192 kB/s eta 0:00:011\n",
      "\u001b[?25hCollecting beautifulsoup4<5.0.0,>=4.9.1\n",
      "  Downloading beautifulsoup4-4.13.3-py3-none-any.whl (186 kB)\n",
      "\u001b[K     |████████████████████████████████| 186 kB 8.5 MB/s eta 0:00:01\n",
      "\u001b[?25hRequirement already satisfied: requests<3.0.0,>=2.23.0 in ./.local/lib/python3.8/site-packages (from deep_translator) (2.32.3)\n",
      "Requirement already satisfied: typing-extensions>=4.0.0 in ./.local/lib/python3.8/site-packages (from beautifulsoup4<5.0.0,>=4.9.1->deep_translator) (4.12.2)\n",
      "Requirement already satisfied: soupsieve>1.2 in /usr/lib/python3/dist-packages (from beautifulsoup4<5.0.0,>=4.9.1->deep_translator) (1.9.5)\n",
      "Requirement already satisfied: certifi>=2017.4.17 in /usr/lib/python3/dist-packages (from requests<3.0.0,>=2.23.0->deep_translator) (2019.11.28)\n",
      "Requirement already satisfied: charset-normalizer<4,>=2 in ./.local/lib/python3.8/site-packages (from requests<3.0.0,>=2.23.0->deep_translator) (3.4.1)\n",
      "Requirement already satisfied: idna<4,>=2.5 in /usr/lib/python3/dist-packages (from requests<3.0.0,>=2.23.0->deep_translator) (2.8)\n",
      "Requirement already satisfied: urllib3<3,>=1.21.1 in /usr/lib/python3/dist-packages (from requests<3.0.0,>=2.23.0->deep_translator) (1.25.8)\n",
      "\u001b[31mERROR: jupyter-server 2.14.2 has requirement packaging>=22.0, but you'll have packaging 20.3 which is incompatible.\u001b[0m\n",
      "Installing collected packages: beautifulsoup4, deep-translator\n",
      "Successfully installed beautifulsoup4-4.13.3 deep-translator-1.11.4\n"
     ]
    }
   ],
   "source": [
    "!pip install deep_translator"
   ]
  },
  {
   "cell_type": "code",
   "execution_count": 58,
   "id": "b81f82c4-d31f-4863-937e-24acb387ea3c",
   "metadata": {},
   "outputs": [
    {
     "name": "stdout",
     "output_type": "stream",
     "text": [
      "lv\n",
      "Āmi tōmākē bhāl -bāsi\n"
     ]
    }
   ],
   "source": [
    "from deep_translator import GoogleTranslator\n",
    "from langdetect import detect\n",
    "text = 'Āmi tōmākē bhālōbāsi'\n",
    "detect_lang = detect(text)\n",
    "print(detect_lang)\n",
    "spanish = GoogleTranslator(source='bn',target='hi').translate(text)\n",
    "print(spanish)"
   ]
  },
  {
   "cell_type": "code",
   "execution_count": 63,
   "id": "1b1e9e99-c1cc-4411-aab0-f7cfa35e4f47",
   "metadata": {},
   "outputs": [
    {
     "name": "stdout",
     "output_type": "stream",
     "text": [
      "Requirement already satisfied: textBlob in ./.local/lib/python3.8/site-packages (0.18.0.post0)\n",
      "Requirement already satisfied: nltk>=3.8 in ./.local/lib/python3.8/site-packages (from textBlob) (3.9.1)\n",
      "Requirement already satisfied: click in /usr/lib/python3/dist-packages (from nltk>=3.8->textBlob) (7.0)\n",
      "Requirement already satisfied: tqdm in ./.local/lib/python3.8/site-packages (from nltk>=3.8->textBlob) (4.67.1)\n",
      "Requirement already satisfied: regex>=2021.8.3 in ./.local/lib/python3.8/site-packages (from nltk>=3.8->textBlob) (2024.11.6)\n",
      "Requirement already satisfied: joblib in ./.local/lib/python3.8/site-packages (from nltk>=3.8->textBlob) (1.4.2)\n"
     ]
    }
   ],
   "source": [
    "!pip install textBlob"
   ]
  },
  {
   "cell_type": "code",
   "execution_count": 75,
   "id": "79472d90-7e51-4a90-a984-e1e24e92834a",
   "metadata": {},
   "outputs": [
    {
     "data": {
      "text/plain": [
       "[('they', 0.57), ('their', 0.43)]"
      ]
     },
     "execution_count": 75,
     "metadata": {},
     "output_type": "execute_result"
    }
   ],
   "source": [
    "from textblob import Word\n",
    "word = Word('theyr')\n",
    "%precision 2\n",
    "word.spellcheck()\n"
   ]
  },
  {
   "cell_type": "code",
   "execution_count": 76,
   "id": "bab5fea0-f0e5-4b31-9871-6b0169c00576",
   "metadata": {},
   "outputs": [
    {
     "data": {
      "text/plain": [
       "'they'"
      ]
     },
     "execution_count": 76,
     "metadata": {},
     "output_type": "execute_result"
    }
   ],
   "source": [
    "word.correct()"
   ]
  },
  {
   "cell_type": "code",
   "execution_count": 78,
   "id": "7340b5a8-03f4-4bb1-a8f7-d0aabf34eda6",
   "metadata": {},
   "outputs": [
    {
     "data": {
      "text/plain": [
       "TextBlob(\"This sentences has missplled wrds\")"
      ]
     },
     "execution_count": 78,
     "metadata": {},
     "output_type": "execute_result"
    }
   ],
   "source": [
    "from textblob import Word\n",
    "sentence = TextBlob('This sentences has missplled wrds')\n",
    "sentence"
   ]
  },
  {
   "cell_type": "code",
   "execution_count": 79,
   "id": "fbeba5e9-2f2a-4cc0-9ea6-69144bf0100c",
   "metadata": {},
   "outputs": [
    {
     "data": {
      "text/plain": [
       "TextBlob(\"His sentences has misspelled words\")"
      ]
     },
     "execution_count": 79,
     "metadata": {},
     "output_type": "execute_result"
    }
   ],
   "source": [
    "sentence.correct()"
   ]
  },
  {
   "cell_type": "code",
   "execution_count": 82,
   "id": "49c9c5ff-6d19-419a-9c69-ec142ba1f806",
   "metadata": {},
   "outputs": [
    {
     "data": {
      "text/plain": [
       "TextBlob(\"I cannot believe that i missspled this words\")"
      ]
     },
     "execution_count": 82,
     "metadata": {},
     "output_type": "execute_result"
    }
   ],
   "source": [
    "from textblob import Word\n",
    "sentence = TextBlob('I canot belive thay i missspled thia wors')\n",
    "sentence.correct()"
   ]
  },
  {
   "cell_type": "code",
   "execution_count": 90,
   "id": "352033e4-3de9-463b-afe7-8202537bc9d3",
   "metadata": {},
   "outputs": [
    {
     "data": {
      "text/plain": [
       "'varieti'"
      ]
     },
     "execution_count": 90,
     "metadata": {},
     "output_type": "execute_result"
    }
   ],
   "source": [
    "from textblob import Word\n",
    "sentence = Word('varieties')\n",
    "sentence.stem()"
   ]
  },
  {
   "cell_type": "code",
   "execution_count": 89,
   "id": "a257d1a6-1e1c-4d06-97c4-6b41b19bade7",
   "metadata": {},
   "outputs": [
    {
     "data": {
      "text/plain": [
       "'variety'"
      ]
     },
     "execution_count": 89,
     "metadata": {},
     "output_type": "execute_result"
    }
   ],
   "source": [
    "sentence.lemmatize()"
   ]
  }
 ],
 "metadata": {
  "kernelspec": {
   "display_name": "Python 3 (ipykernel)",
   "language": "python",
   "name": "python3"
  },
  "language_info": {
   "codemirror_mode": {
    "name": "ipython",
    "version": 3
   },
   "file_extension": ".py",
   "mimetype": "text/x-python",
   "name": "python",
   "nbconvert_exporter": "python",
   "pygments_lexer": "ipython3",
   "version": "3.8.10"
  }
 },
 "nbformat": 4,
 "nbformat_minor": 5
}
